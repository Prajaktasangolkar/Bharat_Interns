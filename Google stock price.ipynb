{
 "cells": [
  {
   "cell_type": "code",
   "execution_count": 1,
   "metadata": {},
   "outputs": [],
   "source": [
    "import numpy as np \n",
    "import pandas as pd \n",
    "import matplotlib.pyplot as plt \n",
    "from sklearn.preprocessing import MinMaxScaler\n",
    "from keras.models import Sequential\n",
    "from keras.layers import Dense,LSTM,Dropout"
   ]
  },
  {
   "cell_type": "code",
   "execution_count": 2,
   "metadata": {},
   "outputs": [
    {
     "data": {
      "text/html": [
       "<div>\n",
       "<style scoped>\n",
       "    .dataframe tbody tr th:only-of-type {\n",
       "        vertical-align: middle;\n",
       "    }\n",
       "\n",
       "    .dataframe tbody tr th {\n",
       "        vertical-align: top;\n",
       "    }\n",
       "\n",
       "    .dataframe thead th {\n",
       "        text-align: right;\n",
       "    }\n",
       "</style>\n",
       "<table border=\"1\" class=\"dataframe\">\n",
       "  <thead>\n",
       "    <tr style=\"text-align: right;\">\n",
       "      <th></th>\n",
       "      <th>Date</th>\n",
       "      <th>Open</th>\n",
       "      <th>High</th>\n",
       "      <th>Low</th>\n",
       "      <th>Close</th>\n",
       "      <th>Volume</th>\n",
       "    </tr>\n",
       "  </thead>\n",
       "  <tbody>\n",
       "    <tr>\n",
       "      <th>0</th>\n",
       "      <td>1/3/2012</td>\n",
       "      <td>325.25</td>\n",
       "      <td>332.83</td>\n",
       "      <td>324.97</td>\n",
       "      <td>663.59</td>\n",
       "      <td>7,380,500</td>\n",
       "    </tr>\n",
       "    <tr>\n",
       "      <th>1</th>\n",
       "      <td>1/4/2012</td>\n",
       "      <td>331.27</td>\n",
       "      <td>333.87</td>\n",
       "      <td>329.08</td>\n",
       "      <td>666.45</td>\n",
       "      <td>5,749,400</td>\n",
       "    </tr>\n",
       "    <tr>\n",
       "      <th>2</th>\n",
       "      <td>1/5/2012</td>\n",
       "      <td>329.83</td>\n",
       "      <td>330.75</td>\n",
       "      <td>326.89</td>\n",
       "      <td>657.21</td>\n",
       "      <td>6,590,300</td>\n",
       "    </tr>\n",
       "    <tr>\n",
       "      <th>3</th>\n",
       "      <td>1/6/2012</td>\n",
       "      <td>328.34</td>\n",
       "      <td>328.77</td>\n",
       "      <td>323.68</td>\n",
       "      <td>648.24</td>\n",
       "      <td>5,405,900</td>\n",
       "    </tr>\n",
       "    <tr>\n",
       "      <th>4</th>\n",
       "      <td>1/9/2012</td>\n",
       "      <td>322.04</td>\n",
       "      <td>322.29</td>\n",
       "      <td>309.46</td>\n",
       "      <td>620.76</td>\n",
       "      <td>11,688,800</td>\n",
       "    </tr>\n",
       "  </tbody>\n",
       "</table>\n",
       "</div>"
      ],
      "text/plain": [
       "       Date    Open    High     Low   Close      Volume\n",
       "0  1/3/2012  325.25  332.83  324.97  663.59   7,380,500\n",
       "1  1/4/2012  331.27  333.87  329.08  666.45   5,749,400\n",
       "2  1/5/2012  329.83  330.75  326.89  657.21   6,590,300\n",
       "3  1/6/2012  328.34  328.77  323.68  648.24   5,405,900\n",
       "4  1/9/2012  322.04  322.29  309.46  620.76  11,688,800"
      ]
     },
     "execution_count": 2,
     "metadata": {},
     "output_type": "execute_result"
    }
   ],
   "source": [
    "data = pd.read_csv('Google_train_data.csv')\n",
    "data.head()"
   ]
  },
  {
   "cell_type": "code",
   "execution_count": 3,
   "metadata": {},
   "outputs": [
    {
     "name": "stdout",
     "output_type": "stream",
     "text": [
      "<class 'pandas.core.frame.DataFrame'>\n",
      "RangeIndex: 1258 entries, 0 to 1257\n",
      "Data columns (total 6 columns):\n",
      " #   Column  Non-Null Count  Dtype  \n",
      "---  ------  --------------  -----  \n",
      " 0   Date    1258 non-null   object \n",
      " 1   Open    1258 non-null   float64\n",
      " 2   High    1258 non-null   float64\n",
      " 3   Low     1258 non-null   float64\n",
      " 4   Close   1258 non-null   object \n",
      " 5   Volume  1258 non-null   object \n",
      "dtypes: float64(3), object(3)\n",
      "memory usage: 59.1+ KB\n"
     ]
    }
   ],
   "source": [
    "data.info()"
   ]
  },
  {
   "cell_type": "code",
   "execution_count": 4,
   "metadata": {},
   "outputs": [],
   "source": [
    "data[\"Close\"]=pd.to_numeric(data.Close,errors='coerce')\n",
    "data = data.dropna()\n",
    "trainData = data.iloc[:,4:5].values"
   ]
  },
  {
   "cell_type": "code",
   "execution_count": 5,
   "metadata": {},
   "outputs": [
    {
     "name": "stdout",
     "output_type": "stream",
     "text": [
      "<class 'pandas.core.frame.DataFrame'>\n",
      "Int64Index: 1149 entries, 0 to 1257\n",
      "Data columns (total 6 columns):\n",
      " #   Column  Non-Null Count  Dtype  \n",
      "---  ------  --------------  -----  \n",
      " 0   Date    1149 non-null   object \n",
      " 1   Open    1149 non-null   float64\n",
      " 2   High    1149 non-null   float64\n",
      " 3   Low     1149 non-null   float64\n",
      " 4   Close   1149 non-null   float64\n",
      " 5   Volume  1149 non-null   object \n",
      "dtypes: float64(4), object(2)\n",
      "memory usage: 62.8+ KB\n"
     ]
    }
   ],
   "source": [
    "data.info()"
   ]
  },
  {
   "cell_type": "code",
   "execution_count": 6,
   "metadata": {},
   "outputs": [
    {
     "data": {
      "text/plain": [
       "(1149, 1)"
      ]
     },
     "execution_count": 6,
     "metadata": {},
     "output_type": "execute_result"
    }
   ],
   "source": [
    "sc = MinMaxScaler(feature_range=(0,1))\n",
    "trainData = sc.fit_transform(trainData)\n",
    "trainData.shape"
   ]
  },
  {
   "cell_type": "code",
   "execution_count": 7,
   "metadata": {},
   "outputs": [],
   "source": [
    "X_train = []\n",
    "y_train = []\n",
    "\n",
    "for i in range (60,1149): #60 : timestep // 1149 : length of the data\n",
    "    X_train.append(trainData[i-60:i,0]) \n",
    "    y_train.append(trainData[i,0])\n",
    "\n",
    "X_train,y_train = np.array(X_train),np.array(y_train)"
   ]
  },
  {
   "cell_type": "code",
   "execution_count": 8,
   "metadata": {},
   "outputs": [
    {
     "data": {
      "text/plain": [
       "(1089, 60, 1)"
      ]
     },
     "execution_count": 8,
     "metadata": {},
     "output_type": "execute_result"
    }
   ],
   "source": [
    "X_train = np.reshape(X_train,(X_train.shape[0],X_train.shape[1],1)) #adding the batch_size axis\n",
    "X_train.shape"
   ]
  },
  {
   "cell_type": "code",
   "execution_count": 9,
   "metadata": {},
   "outputs": [],
   "source": [
    "model = Sequential()\n",
    "\n",
    "model.add(LSTM(units=100, return_sequences = True, input_shape =(X_train.shape[1],1)))\n",
    "model.add(Dropout(0.2))\n",
    "\n",
    "model.add(LSTM(units=100, return_sequences = True))\n",
    "model.add(Dropout(0.2))\n",
    "\n",
    "model.add(LSTM(units=100, return_sequences = True))\n",
    "model.add(Dropout(0.2))\n",
    "\n",
    "model.add(LSTM(units=100, return_sequences = False))\n",
    "model.add(Dropout(0.2))\n",
    "\n",
    "model.add(Dense(units =1))\n",
    "model.compile(optimizer='adam',loss=\"mean_squared_error\")"
   ]
  },
  {
   "cell_type": "code",
   "execution_count": 10,
   "metadata": {},
   "outputs": [
    {
     "name": "stdout",
     "output_type": "stream",
     "text": [
      "Epoch 1/20\n",
      "35/35 - 17s - loss: 0.0377 - 17s/epoch - 482ms/step\n",
      "Epoch 2/20\n",
      "35/35 - 10s - loss: 0.0112 - 10s/epoch - 285ms/step\n",
      "Epoch 3/20\n",
      "35/35 - 10s - loss: 0.0102 - 10s/epoch - 294ms/step\n",
      "Epoch 4/20\n",
      "35/35 - 10s - loss: 0.0097 - 10s/epoch - 273ms/step\n",
      "Epoch 5/20\n",
      "35/35 - 10s - loss: 0.0069 - 10s/epoch - 273ms/step\n",
      "Epoch 6/20\n",
      "35/35 - 9s - loss: 0.0069 - 9s/epoch - 254ms/step\n",
      "Epoch 7/20\n",
      "35/35 - 9s - loss: 0.0068 - 9s/epoch - 271ms/step\n",
      "Epoch 8/20\n",
      "35/35 - 9s - loss: 0.0071 - 9s/epoch - 258ms/step\n",
      "Epoch 9/20\n",
      "35/35 - 9s - loss: 0.0079 - 9s/epoch - 261ms/step\n",
      "Epoch 10/20\n",
      "35/35 - 10s - loss: 0.0065 - 10s/epoch - 273ms/step\n",
      "Epoch 11/20\n",
      "35/35 - 8s - loss: 0.0062 - 8s/epoch - 225ms/step\n",
      "Epoch 12/20\n",
      "35/35 - 9s - loss: 0.0056 - 9s/epoch - 244ms/step\n",
      "Epoch 13/20\n",
      "35/35 - 9s - loss: 0.0055 - 9s/epoch - 247ms/step\n",
      "Epoch 14/20\n",
      "35/35 - 8s - loss: 0.0067 - 8s/epoch - 225ms/step\n",
      "Epoch 15/20\n",
      "35/35 - 8s - loss: 0.0053 - 8s/epoch - 242ms/step\n",
      "Epoch 16/20\n",
      "35/35 - 8s - loss: 0.0055 - 8s/epoch - 237ms/step\n",
      "Epoch 17/20\n",
      "35/35 - 9s - loss: 0.0048 - 9s/epoch - 247ms/step\n",
      "Epoch 18/20\n",
      "35/35 - 9s - loss: 0.0049 - 9s/epoch - 251ms/step\n",
      "Epoch 19/20\n",
      "35/35 - 8s - loss: 0.0083 - 8s/epoch - 237ms/step\n",
      "Epoch 20/20\n",
      "35/35 - 9s - loss: 0.0047 - 9s/epoch - 249ms/step\n"
     ]
    }
   ],
   "source": [
    "hist = model.fit(X_train, y_train, epochs = 20, batch_size = 32, verbose=2)"
   ]
  },
  {
   "cell_type": "code",
   "execution_count": 16,
   "metadata": {},
   "outputs": [
    {
     "data": {
      "image/png": "[encoded data removed]",
      "text/plain": [
       "<Figure size 640x480 with 1 Axes>"
      ]
     },
     "metadata": {},
     "output_type": "display_data"
    }
   ],
   "source": [
    "plt.plot(hist.history['loss'])\n",
    "plt.title('Training model loss')\n",
    "plt.ylabel('loss')\n",
    "plt.xlabel('epoch')\n",
    "plt.legend(['train'], loc='upper left')\n",
    "plt.show()"
   ]
  },
  {
   "cell_type": "code",
   "execution_count": 12,
   "metadata": {},
   "outputs": [
    {
     "data": {
      "text/plain": [
       "(192, 60, 1)"
      ]
     },
     "execution_count": 12,
     "metadata": {},
     "output_type": "execute_result"
    }
   ],
   "source": [
    "testData = pd.read_csv('Google_test_data.csv')\n",
    "testData[\"Close\"]=pd.to_numeric(testData.Close,errors='coerce')\n",
    "testData = testData.dropna()\n",
    "testData = testData.iloc[:,4:5]\n",
    "y_test = testData.iloc[60:,0:].values \n",
    "#input array for the model\n",
    "inputClosing = testData.iloc[:,0:].values \n",
    "inputClosing_scaled = sc.transform(inputClosing)\n",
    "inputClosing_scaled.shape\n",
    "X_test = []\n",
    "length = len(testData)\n",
    "timestep = 60\n",
    "for i in range(timestep,length):  \n",
    "    X_test.append(inputClosing_scaled[i-timestep:i,0])\n",
    "X_test = np.array(X_test)\n",
    "X_test = np.reshape(X_test,(X_test.shape[0],X_test.shape[1],1))\n",
    "X_test.shape"
   ]
  },
  {
   "cell_type": "code",
   "execution_count": 13,
   "metadata": {},
   "outputs": [
    {
     "name": "stdout",
     "output_type": "stream",
     "text": [
      "6/6 [==============================] - 2s 73ms/step\n"
     ]
    },
    {
     "data": {
      "text/plain": [
       "array([[1.2109749],\n",
       "       [1.212737 ],\n",
       "       [1.2227584],\n",
       "       [1.2381428],\n",
       "       [1.2503777],\n",
       "       [1.2499297],\n",
       "       [1.2375904],\n",
       "       [1.2210633],\n",
       "       [1.2109519],\n",
       "       [1.2089273],\n",
       "       [1.2034478],\n",
       "       [1.1934943],\n",
       "       [1.1843358],\n",
       "       [1.1757102],\n",
       "       [1.1737115],\n",
       "       [1.1776816],\n",
       "       [1.1941366],\n",
       "       [1.2200052],\n",
       "       [1.2493278],\n",
       "       [1.2781906],\n",
       "       [1.2894064],\n",
       "       [1.2860807],\n",
       "       [1.267552 ],\n",
       "       [1.2414851],\n",
       "       [1.2185258],\n",
       "       [1.2061901],\n",
       "       [1.2041742],\n",
       "       [1.2044997],\n",
       "       [1.1978914],\n",
       "       [1.1872833],\n",
       "       [1.1753752],\n",
       "       [1.1619368],\n",
       "       [1.1423072],\n",
       "       [1.1183449],\n",
       "       [1.108467 ],\n",
       "       [1.1170982],\n",
       "       [1.1372167],\n",
       "       [1.1598605],\n",
       "       [1.1809798],\n",
       "       [1.1912059],\n",
       "       [1.2018393],\n",
       "       [1.2153884],\n",
       "       [1.2316121],\n",
       "       [1.2470185],\n",
       "       [1.2577366],\n",
       "       [1.259739 ],\n",
       "       [1.2515111],\n",
       "       [1.2443024],\n",
       "       [1.2431661],\n",
       "       [1.2495402],\n",
       "       [1.2622515],\n",
       "       [1.2707564],\n",
       "       [1.2730774],\n",
       "       [1.2702564],\n",
       "       [1.2687265],\n",
       "       [1.2654574],\n",
       "       [1.258008 ],\n",
       "       [1.2543899],\n",
       "       [1.2627199],\n",
       "       [1.279205 ],\n",
       "       [1.3026313],\n",
       "       [1.3304306],\n",
       "       [1.3495392],\n",
       "       [1.3524772],\n",
       "       [1.3415753],\n",
       "       [1.3238527],\n",
       "       [1.3121167],\n",
       "       [1.3091484],\n",
       "       [1.3131098],\n",
       "       [1.3184365],\n",
       "       [1.3234131],\n",
       "       [1.3260359],\n",
       "       [1.3222653],\n",
       "       [1.3167835],\n",
       "       [1.3121985],\n",
       "       [1.3108561],\n",
       "       [1.3126656],\n",
       "       [1.3171302],\n",
       "       [1.3276042],\n",
       "       [1.3433824],\n",
       "       [1.3636838],\n",
       "       [1.3830012],\n",
       "       [1.3938907],\n",
       "       [1.3954712],\n",
       "       [1.3988031],\n",
       "       [1.4102458],\n",
       "       [1.4268693],\n",
       "       [1.4413786],\n",
       "       [1.4500057],\n",
       "       [1.452586 ],\n",
       "       [1.4545306],\n",
       "       [1.4634436],\n",
       "       [1.4792417],\n",
       "       [1.4901907],\n",
       "       [1.48993  ],\n",
       "       [1.4788858],\n",
       "       [1.4598402],\n",
       "       [1.4379436],\n",
       "       [1.4197758],\n",
       "       [1.4134878],\n",
       "       [1.4193403],\n",
       "       [1.4334465],\n",
       "       [1.4520252],\n",
       "       [1.4679304],\n",
       "       [1.4772205],\n",
       "       [1.4784459],\n",
       "       [1.475353 ],\n",
       "       [1.4715894],\n",
       "       [1.4721357],\n",
       "       [1.4773076],\n",
       "       [1.4860753],\n",
       "       [1.4977912],\n",
       "       [1.509429 ],\n",
       "       [1.5216413],\n",
       "       [1.5365598],\n",
       "       [1.549166 ],\n",
       "       [1.5588957],\n",
       "       [1.5673889],\n",
       "       [1.5780822],\n",
       "       [1.5631274],\n",
       "       [1.5222281],\n",
       "       [1.4700216],\n",
       "       [1.4278803],\n",
       "       [1.4044771],\n",
       "       [1.3945638],\n",
       "       [1.3912123],\n",
       "       [1.389949 ],\n",
       "       [1.3899254],\n",
       "       [1.3829132],\n",
       "       [1.3674705],\n",
       "       [1.35943  ],\n",
       "       [1.365781 ],\n",
       "       [1.3784746],\n",
       "       [1.3852825],\n",
       "       [1.3866544],\n",
       "       [1.3853463],\n",
       "       [1.3808378],\n",
       "       [1.3729042],\n",
       "       [1.3639128],\n",
       "       [1.351833 ],\n",
       "       [1.3390733],\n",
       "       [1.324865 ],\n",
       "       [1.2951385],\n",
       "       [1.2588425],\n",
       "       [1.2232946],\n",
       "       [1.1953524],\n",
       "       [1.1829485],\n",
       "       [1.1884162],\n",
       "       [1.205762 ],\n",
       "       [1.2267444],\n",
       "       [1.2479266],\n",
       "       [1.2652823],\n",
       "       [1.2785841],\n",
       "       [1.2902502],\n",
       "       [1.2999088],\n",
       "       [1.3088814],\n",
       "       [1.3190233],\n",
       "       [1.3276008],\n",
       "       [1.3261276],\n",
       "       [1.3139598],\n",
       "       [1.2952982],\n",
       "       [1.2770845],\n",
       "       [1.2673842],\n",
       "       [1.2699698],\n",
       "       [1.2837912],\n",
       "       [1.305219 ],\n",
       "       [1.324267 ],\n",
       "       [1.3382803],\n",
       "       [1.3503858],\n",
       "       [1.3616489],\n",
       "       [1.3712385],\n",
       "       [1.3793482],\n",
       "       [1.3861216],\n",
       "       [1.389262 ],\n",
       "       [1.3887869],\n",
       "       [1.3819886],\n",
       "       [1.3730359],\n",
       "       [1.367022 ],\n",
       "       [1.3630244],\n",
       "       [1.3590232],\n",
       "       [1.3835276],\n",
       "       [1.4291672],\n",
       "       [1.4756101],\n",
       "       [1.5077814],\n",
       "       [1.5205816],\n",
       "       [1.5144968],\n",
       "       [1.4868904],\n",
       "       [1.4532212],\n",
       "       [1.4252598],\n",
       "       [1.4153477],\n",
       "       [1.4172008],\n",
       "       [1.4209332]], dtype=float32)"
      ]
     },
     "execution_count": 13,
     "metadata": {},
     "output_type": "execute_result"
    }
   ],
   "source": [
    "y_pred = model.predict(X_test)\n",
    "y_pred"
   ]
  },
  {
   "cell_type": "code",
   "execution_count": 14,
   "metadata": {},
   "outputs": [],
   "source": [
    "predicted_price = sc.inverse_transform(y_pred)"
   ]
  },
  {
   "cell_type": "code",
   "execution_count": 17,
   "metadata": {},
   "outputs": [
    {
     "data": {
      "image/png": "[encoded data removed]",
      "text/plain": [
       "<Figure size 640x480 with 1 Axes>"
      ]
     },
     "metadata": {},
     "output_type": "display_data"
    }
   ],
   "source": [
    "plt.plot(y_test, color = 'red', label = 'Actual Stock Price')\n",
    "plt.plot(predicted_price, color = 'green', label = 'Predicted Stock Price')\n",
    "plt.title('Google stock price prediction')\n",
    "plt.xlabel('Time')\n",
    "plt.ylabel('Stock Price')\n",
    "plt.legend()\n",
    "plt.show()"
   ]
  },
  {
   "cell_type": "code",
   "execution_count": null,
   "metadata": {},
   "outputs": [],
   "source": []
  }
 ],
 "metadata": {
  "kernelspec": {
   "display_name": "Python 3 (ipykernel)",
   "language": "python",
   "name": "python3"
  },
  "language_info": {
   "codemirror_mode": {
    "name": "ipython",
    "version": 3
   },
   "file_extension": ".py",
   "mimetype": "text/x-python",
   "name": "python",
   "nbconvert_exporter": "python",
   "pygments_lexer": "ipython3",
   "version": "3.9.13"
  }
 },
 "nbformat": 4,
 "nbformat_minor": 4
}
